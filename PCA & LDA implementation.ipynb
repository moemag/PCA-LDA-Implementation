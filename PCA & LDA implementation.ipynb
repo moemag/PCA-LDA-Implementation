{
  "nbformat": 4,
  "nbformat_minor": 0,
  "metadata": {
    "colab": {
      "provenance": [],
      "include_colab_link": true
    },
    "kernelspec": {
      "display_name": "Python 3",
      "name": "python3"
    },
    "language_info": {
      "name": "python"
    }
  },
  "cells": [
    {
      "cell_type": "markdown",
      "metadata": {
        "id": "view-in-github",
        "colab_type": "text"
      },
      "source": [
        "<a href=\"https://colab.research.google.com/github/moemag/PCA-LDA-Implementation/blob/main/PCA%20%26%20LDA%20implementation.ipynb\" target=\"_parent\"><img src=\"https://colab.research.google.com/assets/colab-badge.svg\" alt=\"Open In Colab\"/></a>"
      ]
    },
    {
      "cell_type": "markdown",
      "metadata": {
        "id": "5viyE-clfOCK"
      },
      "source": [
        "PCA Implementation\n"
      ]
    },
    {
      "cell_type": "code",
      "metadata": {
        "id": "MD10gB67hnhs",
        "colab": {
          "base_uri": "https://localhost:8080/"
        },
        "outputId": "2329ef6e-bef5-4e3b-cd53-612646f762bc"
      },
      "source": [
        "from PIL import Image\n",
        "import numpy as np\n",
        "import os\n",
        "from sklearn.neighbors import KNeighborsClassifier\n",
        "\n",
        "\n",
        "x = []\n",
        "y = []\n",
        "count = 1\n",
        "\n",
        "for i in range(1,41):\n",
        "  images = os.listdir('./drive/MyDrive/UNI/att-database-of-faces/s'+str(i))\n",
        "  count = 1\n",
        "  for image in images:\n",
        "    image_temp = np.array(Image.open('./drive/MyDrive/UNI/att-database-of-faces/s'+str(i) +'/'+str(count)+'.pgm')).flatten()\n",
        "    x.append(image_temp)\n",
        "    y.append(str(i))\n",
        "    count += 1\n",
        "\n",
        "data = np.array(x)\n",
        "data_ids = np.array(y)\n",
        "\n",
        "\n",
        "training = np.empty((0,10304), int)\n",
        "training_ids = np.array([])\n",
        "\n",
        "testing = np.empty((0,10304), int)\n",
        "testing_ids = np.array([])\n",
        "\n",
        "for i in range(400):\n",
        "  if i%2 != 0:\n",
        "    training = np.vstack([training, data[i]])\n",
        "    training_ids = np.append(training_ids, data_ids[i])\n",
        "  else:\n",
        "    testing = np.vstack([testing, data[i]])\n",
        "    testing_ids = np.append(testing_ids, data_ids[i])\n",
        "\n",
        "\n",
        "\n",
        "data_mean =  np.mean(data, axis=0)\n",
        "data_z = data - data_mean\n",
        "\n",
        "data_cov = np.dot(data_z.T, data_z) / len(data)\n",
        "eigen_values, eigen_vectors = np.linalg.eigh(data_cov)\n",
        "\n",
        "eigen_vectors = eigen_vectors.T\n",
        "\n",
        "i = eigen_values.argsort()[::-1]\n",
        "eigen_values = eigen_values[i]\n",
        "eigen_vectors = eigen_vectors[:, i]\n",
        "\n",
        "sum = np.sum(eigen_values)\n",
        "\n",
        "alpha = np.array([0.8, 0.85, 0.9, 0.95])\n",
        "fr = 0\n",
        "r = [0, 0, 0, 0]\n",
        "\n",
        "#for i in range(4):\n",
        "#    temp_sum = 0\n",
        "#    while fr < alpha[i]:\n",
        "#        temp_sum += eigen_values[r[i]]\n",
        "#        fr = temp_sum / sum\n",
        "#        r[i] += 1\n",
        "\n",
        "for i in range(4):\n",
        "  temp_sum = 0\n",
        "  while fr < alpha[i]:\n",
        "    temp_sum += eigen_values[r[i]]\n",
        "    fr = temp_sum / sum\n",
        "    r[i] += 1\n",
        "\n",
        "\n",
        "\n",
        "  projection_matrix = eigen_vectors[:, 0:r[i]]\n",
        "\n",
        "  training_mean = np.mean(training)\n",
        "  centered_training = training -  training_mean\n",
        "  projected_training = np.dot(centered_training, projection_matrix)\n",
        "\n",
        "  testing_mean = np.mean(testing)\n",
        "  centered_testing = testing - testing_mean\n",
        "  projected_testing = np.dot(centered_testing, projection_matrix)\n",
        "\n",
        "  model = KNeighborsClassifier(n_neighbors=1)\n",
        "  model.fit(projected_training,training_ids)\n",
        "  predicted= model.predict(projected_testing)\n",
        "\n",
        "  accuracy = (np.sum(testing_ids == predicted) / len(testing_ids)) * 100\n",
        "  print(\"Accuracy for alpha = \", alpha[i], \"is \", str(accuracy), \"%\")\n",
        "\n"
      ],
      "execution_count": null,
      "outputs": [
        {
          "output_type": "stream",
          "text": [
            "Accuracy for alpha =  0.8 is  88.0 %\n",
            "Accuracy for alpha =  0.85 is  92.0 %\n",
            "Accuracy for alpha =  0.9 is  93.0 %\n",
            "Accuracy for alpha =  0.95 is  93.0 %\n"
          ],
          "name": "stdout"
        }
      ]
    },
    {
      "cell_type": "markdown",
      "metadata": {
        "id": "IhwLqb-NfSul"
      },
      "source": [
        "LDA Implementation\n"
      ]
    },
    {
      "cell_type": "code",
      "metadata": {
        "colab": {
          "base_uri": "https://localhost:8080/"
        },
        "id": "eAx1ZeqWfVC6",
        "outputId": "d5c66801-86b0-493c-9c03-441a86a42305"
      },
      "source": [
        "# This is a sample Python script.\n",
        "from PIL import Image\n",
        "import numpy as np\n",
        "from numpy import linalg as la\n",
        "\n",
        "x = []\n",
        "y = []\n",
        "count = 1\n",
        "\n",
        "for i in range(1,41):\n",
        "  images = os.listdir('./drive/MyDrive/UNI/att-database-of-faces/s'+str(i))\n",
        "  count = 1\n",
        "  for image in images:\n",
        "    image_temp = np.array(Image.open('./drive/MyDrive/UNI/att-database-of-faces/s'+str(i) +'/'+str(count)+'.pgm')).flatten()\n",
        "    x.append(image_temp)\n",
        "    y.append(str(i))\n",
        "    count += 1\n",
        "\n",
        "data = np.array(x)\n",
        "data_ids = np.array(y)\n",
        "\n",
        "\n",
        "training = np.empty((0,10304), int)\n",
        "training_ids = np.array([])\n",
        "\n",
        "testing = np.empty((0,10304), int)\n",
        "testing_ids = np.array([])\n",
        "\n",
        "for i in range(400):\n",
        "  if i%2 != 0:\n",
        "    training = np.vstack([training, data[i]])\n",
        "    training_ids = np.append(training_ids, data_ids[i])\n",
        "  else:\n",
        "    testing = np.vstack([testing, data[i]])\n",
        "    testing_ids = np.append(testing_ids, data_ids[i])\n",
        "\n",
        "\n",
        "\n",
        "\n",
        "\n",
        "data_mean =  np.mean(data, axis=0)\n",
        "data_z = data - data_mean\n",
        "\n",
        "data_cov = np.dot(data_z.T, data_z) / len(data)\n",
        "\n",
        "class_mean = np.empty((0, 10304))\n",
        "mean_vec = []\n",
        "sum = 0\n",
        "for i in range(40):\n",
        "    for j in range(10304):\n",
        "        for k in range(10):\n",
        "            idx = 10*i+k\n",
        "            sum += data[idx][j]\n",
        "        mean_vec.append(sum/10)\n",
        "        sum = 0\n",
        "    class_mean = np.vstack([class_mean, mean_vec])\n",
        "    mean_vec = []\n",
        "\n",
        "#training_mean = np.mean(training, axis=0)\n",
        "diff = np.array(class_mean[0] - data_mean)\n",
        "Sb = np.dot(diff[:, None], diff[None, :])\n",
        "for i in range(1, 40):\n",
        "    diff = np.array(class_mean[i] - data_mean)\n",
        "    Sb += np.dot(diff[:, None], diff[None, :])\n",
        "Sb *= 10\n",
        "\n",
        "\n",
        "S = np.zeros((10304, 10304))\n",
        "Zi = np.empty((0, 10304))\n",
        "for j in range(400):\n",
        "    z = data[j] - class_mean[int(j/10)]\n",
        "    Zi = np.vstack([Zi, z])\n",
        "    if (j+1) % 10 == 0:\n",
        "        S += np.matmul(Zi.T, Zi)\n",
        "        Zi = np.empty((0, 10304))\n",
        "\n",
        "\n",
        "S_inv = la.inv(S)\n",
        "evals, evecs = np.linalg.eigh(np.matmul(S_inv, Sb))\n",
        "\n",
        "evecs = evecs.T\n",
        "\n",
        "i = evals.argsort()[::-1]\n",
        "evals = evals[i]\n",
        "evecs = evecs[:, i]\n",
        "\n",
        "projection_matrix = evecs[:, 0:39]\n",
        "\n",
        "print(len(projection_matrix))\n",
        "print(len(projection_matrix[0]))\n",
        "\n",
        "training_mean = np.mean(training)\n",
        "centered_training = training -  training_mean\n",
        "projected_training = np.dot(centered_training, projection_matrix)\n",
        "\n",
        "\n",
        "testing_mean = np.mean(testing)\n",
        "centered_testing = testing - testing_mean\n",
        "projected_testing = np.dot(centered_testing, projection_matrix)\n",
        "\n",
        "\n",
        "model = KNeighborsClassifier(n_neighbors=1)\n",
        "model.fit(projected_training,training_ids)\n",
        "predicted= model.predict(projected_testing)\n",
        "\n",
        "accuracy = (np.sum(testing_ids == predicted) / len(testing_ids)) * 100\n",
        "print(\"Accuracy =\" , str(accuracy), \"%\")"
      ],
      "execution_count": null,
      "outputs": [
        {
          "output_type": "stream",
          "text": [
            "10304\n",
            "39\n",
            "Accuracy = 86.0 %\n"
          ],
          "name": "stdout"
        }
      ]
    },
    {
      "cell_type": "code",
      "metadata": {
        "id": "qNOMO_iP0HfR"
      },
      "source": [],
      "execution_count": null,
      "outputs": []
    }
  ]
}